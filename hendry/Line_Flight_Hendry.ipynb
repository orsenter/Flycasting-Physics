{
 "cells": [
  {
   "cell_type": "markdown",
   "metadata": {},
   "source": [
    "# Mike Hendry's line flight model\n",
    "\n",
    "This document summarises shortly the (analytic) line flight model from Mike Hendry's master thesis (see [1]). In chapter 4 of this work is an analytic model designed for fly lines in fly fishing presented. The model assumes that the fly line moves parallel to the casting direction, forming a semicircular loop. A unique feature is the consideration of a variable loop radius over time, often observed in fly casting.\n",
    "\n",
    "The equations are verified with the SymPy library for symbolic mathematics. You can find at the end of the document an implementation of the model in Python using the SciPy library."
   ]
  },
  {
   "cell_type": "code",
   "execution_count": 5,
   "metadata": {},
   "outputs": [
    {
     "data": {
      "image/svg+xml": [
       "<svg xmlns:inkscape=\"http://www.inkscape.org/namespaces/inkscape\" xmlns:sodipodi=\"http://sodipodi.sourceforge.net/DTD/sodipodi-0.dtd\" xmlns=\"http://www.w3.org/2000/svg\" xmlns:svg=\"http://www.w3.org/2000/svg\" width=\"138.98625mm\" height=\"52.927647mm\" viewBox=\"0 0 138.98625 52.927647\" version=\"1.1\" id=\"svg1\" inkscape:version=\"1.3 (1:1.3+202307231459+0e150ed6c4)\" sodipodi:docname=\"loop.svg\" inkscape:export-filename=\"loop.png\" inkscape:export-xdpi=\"1200\" inkscape:export-ydpi=\"1200\">\n",
       "  <sodipodi:namedview id=\"namedview1\" pagecolor=\"#ffffff\" bordercolor=\"#000000\" borderopacity=\"0.25\" inkscape:showpageshadow=\"2\" inkscape:pageopacity=\"0.0\" inkscape:pagecheckerboard=\"0\" inkscape:deskcolor=\"#d1d1d1\" inkscape:document-units=\"mm\" showgrid=\"true\" inkscape:zoom=\"0.89441639\" inkscape:cx=\"199.57148\" inkscape:cy=\"68.200897\" inkscape:window-width=\"1366\" inkscape:window-height=\"699\" inkscape:window-x=\"0\" inkscape:window-y=\"0\" inkscape:window-maximized=\"1\" inkscape:current-layer=\"layer1\">\n",
       "    <inkscape:grid id=\"grid1\" units=\"mm\" originx=\"-123.5173\" originy=\"-83.149602\" spacingx=\"0.99999998\" spacingy=\"1\" empcolor=\"#0099e5\" empopacity=\"0.30196078\" color=\"#0099e5\" opacity=\"0.14901961\" empspacing=\"5\" dotted=\"false\" gridanglex=\"30\" gridanglez=\"30\" visible=\"true\"/>\n",
       "  </sodipodi:namedview>\n",
       "  <defs id=\"defs1\">\n",
       "    <marker style=\"overflow:visible\" id=\"DartArrow\" refX=\"0\" refY=\"0\" orient=\"auto-start-reverse\" inkscape:stockid=\"Dart arrow\" markerWidth=\"1\" markerHeight=\"1\" viewBox=\"0 0 1 1\" inkscape:isstock=\"true\" inkscape:collect=\"always\" preserveAspectRatio=\"xMidYMid\">\n",
       "      <path style=\"fill:context-stroke;fill-rule:evenodd;stroke:none\" d=\"M 0,0 5,-5 -12.5,0 5,5 Z\" transform=\"scale(-0.5)\" id=\"path6\"/>\n",
       "    </marker>\n",
       "    <marker style=\"overflow:visible\" id=\"ConcaveTriangle\" refX=\"0\" refY=\"0\" orient=\"auto-start-reverse\" inkscape:stockid=\"Concave triangle arrow\" markerWidth=\"1\" markerHeight=\"1\" viewBox=\"0 0 1 1\" inkscape:isstock=\"true\" inkscape:collect=\"always\" preserveAspectRatio=\"xMidYMid\">\n",
       "      <path transform=\"scale(0.7)\" d=\"M -2,-4 9,0 -2,4 c 2,-2.33 2,-5.66 0,-8 z\" style=\"fill:context-stroke;fill-rule:evenodd;stroke:none\" id=\"path7\"/>\n",
       "    </marker>\n",
       "    <inkscape:path-effect effect=\"skeletal\" id=\"path-effect7\" is_visible=\"true\" lpeversion=\"1\" pattern=\"M 0,4.9921382 C 0,2.2364779 2.2364779,0 4.9921382,0 c 2.7556604,0 4.9921383,2.2364779 4.9921383,4.9921382 0,2.7556604 -2.2364779,4.9921383 -4.9921383,4.9921383 C 2.2364779,9.9842765 0,7.7477986 0,4.9921382 Z\" copytype=\"single_stretched\" prop_scale=\"1\" scale_y_rel=\"false\" spacing=\"0\" normal_offset=\"0\" tang_offset=\"0\" prop_units=\"false\" vertical_pattern=\"false\" hide_knot=\"false\" fuse_tolerance=\"0\"/>\n",
       "    <inkscape:path-effect effect=\"spiro\" id=\"path-effect6\" is_visible=\"true\" lpeversion=\"1\"/>\n",
       "    <inkscape:path-effect effect=\"spiro\" id=\"path-effect5\" is_visible=\"true\" lpeversion=\"1\"/>\n",
       "    <inkscape:path-effect effect=\"spiro\" id=\"path-effect4\" is_visible=\"true\" lpeversion=\"1\"/>\n",
       "    <inkscape:path-effect effect=\"bspline\" id=\"path-effect3\" is_visible=\"true\" lpeversion=\"1.3\" weight=\"33.333333\" steps=\"2\" helper_size=\"0\" apply_no_weight=\"true\" apply_with_weight=\"true\" only_selected=\"false\" uniform=\"false\"/>\n",
       "    <marker style=\"overflow:visible\" id=\"ConcaveTriangle-9\" refX=\"0\" refY=\"0\" orient=\"auto-start-reverse\" inkscape:stockid=\"Concave triangle arrow\" markerWidth=\"1\" markerHeight=\"1\" viewBox=\"0 0 1 1\" inkscape:isstock=\"true\" inkscape:collect=\"always\" preserveAspectRatio=\"xMidYMid\">\n",
       "      <path transform=\"scale(0.7)\" d=\"M -2,-4 9,0 -2,4 c 2,-2.33 2,-5.66 0,-8 z\" style=\"fill:context-stroke;fill-rule:evenodd;stroke:none\" id=\"path7-5\"/>\n",
       "    </marker>\n",
       "    <marker style=\"overflow:visible\" id=\"ConcaveTriangle-3\" refX=\"0\" refY=\"0\" orient=\"auto-start-reverse\" inkscape:stockid=\"Concave triangle arrow\" markerWidth=\"1\" markerHeight=\"1\" viewBox=\"0 0 1 1\" inkscape:isstock=\"true\" inkscape:collect=\"always\" preserveAspectRatio=\"xMidYMid\">\n",
       "      <path transform=\"scale(0.7)\" d=\"M -2,-4 9,0 -2,4 c 2,-2.33 2,-5.66 0,-8 z\" style=\"fill:context-stroke;fill-rule:evenodd;stroke:none\" id=\"path7-7\"/>\n",
       "    </marker>\n",
       "    <marker style=\"overflow:visible\" id=\"ConcaveTriangle-3-2\" refX=\"0\" refY=\"0\" orient=\"auto-start-reverse\" inkscape:stockid=\"Concave triangle arrow\" markerWidth=\"1\" markerHeight=\"1\" viewBox=\"0 0 1 1\" inkscape:isstock=\"true\" inkscape:collect=\"always\" preserveAspectRatio=\"xMidYMid\">\n",
       "      <path transform=\"scale(0.7)\" d=\"M -2,-4 9,0 -2,4 c 2,-2.33 2,-5.66 0,-8 z\" style=\"fill:context-stroke;fill-rule:evenodd;stroke:none\" id=\"path7-7-3\"/>\n",
       "    </marker>\n",
       "  </defs>\n",
       "  <g inkscape:label=\"Ebene 1\" inkscape:groupmode=\"layer\" id=\"layer1\" transform=\"translate(-32.68062,-21.999999)\">\n",
       "    <path style=\"fill:none;stroke:#000000;stroke-width:0.5;stroke-dasharray:none\" d=\"M 35.000001,29.867709 140,29.999999\" id=\"path2\" sodipodi:nodetypes=\"cc\"/>\n",
       "    <path style=\"fill:none;stroke:#000000;stroke-width:0.5;stroke-dasharray:none\" d=\"M 35.000001,69.999998 H 140\" id=\"path2-1\" sodipodi:nodetypes=\"cc\"/>\n",
       "    <path style=\"fill:none;stroke:#000000;stroke-width:0.5;stroke-dasharray:none\" id=\"path16\" sodipodi:type=\"arc\" sodipodi:cx=\"140\" sodipodi:cy=\"50\" sodipodi:rx=\"20\" sodipodi:ry=\"20\" sodipodi:start=\"4.712389\" sodipodi:end=\"1.5707963\" sodipodi:open=\"true\" sodipodi:arc-type=\"arc\" d=\"m 140,30 a 20,20 0 0 1 20,20 20,20 0 0 1 -20,20\"/>\n",
       "    <path style=\"fill:none;stroke:#000000;stroke-width:0.264583\" d=\"M 33,71.999998 35.000001,69.999997 37,71.999998 Z\" id=\"path18\"/>\n",
       "    <path style=\"fill:none;stroke:#000000;stroke-width:0.264583;marker-end:url(#ConcaveTriangle)\" d=\"m 35.000001,67.999998 h 13\" id=\"path19\" sodipodi:nodetypes=\"cc\"/>\n",
       "    <path style=\"fill:none;stroke:#000000;stroke-width:0.264583;marker-end:url(#ConcaveTriangle-3)\" d=\"m 163,49.999999 h 7\" id=\"path19-4\" sodipodi:nodetypes=\"cc\"/>\n",
       "    <path style=\"fill:none;stroke:#000000;stroke-width:0.264583;marker-start:url(#DartArrow);marker-end:url(#ConcaveTriangle-9)\" d=\"M 37.000001,25.999999 H 138\" id=\"path19-3\" sodipodi:nodetypes=\"cc\"/>\n",
       "    <text xml:space=\"preserve\" style=\"font-style:normal;font-variant:normal;font-weight:normal;font-stretch:normal;font-size:3.175px;font-family:'DejaVu Serif';-inkscape-font-specification:'DejaVu Serif';fill:#000000;fill-opacity:1;stroke:none;stroke-width:0.264583\" x=\"40.040825\" y=\"66.867706\" id=\"text19\"><tspan sodipodi:role=\"line\" id=\"tspan19\" style=\"font-style:normal;font-variant:normal;font-weight:normal;font-stretch:normal;font-family:'DejaVu Serif';-inkscape-font-specification:'DejaVu Serif';fill:#000000;fill-opacity:1;stroke:none;stroke-width:0.264583\" x=\"40.040825\" y=\"66.867706\">x</tspan></text>\n",
       "    <text xml:space=\"preserve\" style=\"font-style:normal;font-variant:normal;font-weight:normal;font-stretch:normal;font-size:4.23333px;font-family:'DejaVu Serif';-inkscape-font-specification:'DejaVu Serif';fill:#000000;fill-opacity:1;stroke:none;stroke-width:0.264583\" x=\"79.699013\" y=\"73.987137\" id=\"text20\"><tspan id=\"tspan20\" style=\"font-style:normal;font-variant:normal;font-weight:normal;font-stretch:normal;font-size:4.23333px;font-family:'DejaVu Serif';-inkscape-font-specification:'DejaVu Serif';fill:#000000;fill-opacity:1;stroke:none;stroke-width:0.264583\" x=\"79.699013\" y=\"73.987137\" sodipodi:role=\"line\">stationary line</tspan></text>\n",
       "    <text xml:space=\"preserve\" style=\"font-style:normal;font-variant:normal;font-weight:normal;font-stretch:normal;font-size:4.23333px;font-family:'DejaVu Serif';-inkscape-font-specification:'DejaVu Serif';fill:#000000;fill-opacity:1;stroke:none;stroke-width:0.264583\" x=\"79.886314\" y=\"34.119434\" id=\"text20-0\"><tspan id=\"tspan20-1\" style=\"font-style:normal;font-variant:normal;font-weight:normal;font-stretch:normal;font-size:4.23333px;font-family:'DejaVu Serif';-inkscape-font-specification:'DejaVu Serif';fill:#000000;fill-opacity:1;stroke:none;stroke-width:0.264583\" x=\"79.886314\" y=\"34.119434\" sodipodi:role=\"line\">traveling line</tspan></text>\n",
       "    <path style=\"fill:none;fill-opacity:1;stroke:#000000;stroke-width:0.264583\" d=\"m 139,48.999999 2,2\" id=\"path20\" sodipodi:nodetypes=\"cc\"/>\n",
       "    <path style=\"fill:none;fill-opacity:1;stroke:#000000;stroke-width:0.264583\" d=\"m 139,50.999999 2,-2 v 0\" id=\"path21\" sodipodi:nodetypes=\"ccc\"/>\n",
       "    <path style=\"fill:none;fill-opacity:1;stroke:#000000;stroke-width:0.265;stroke-dasharray:0.265, 0.265;stroke-dashoffset:0\" d=\"M 140,29.999999 V 49.999997 L 153.30495,34.999998\" id=\"path22\" sodipodi:nodetypes=\"ccc\"/>\n",
       "    <text xml:space=\"preserve\" style=\"font-style:normal;font-variant:normal;font-weight:normal;font-stretch:normal;font-size:4.23333px;font-family:'DejaVu Serif';-inkscape-font-specification:'DejaVu Serif';fill:#000000;fill-opacity:1;stroke:none;stroke-width:0.264999;stroke-dasharray:0.264999, 0.264999;stroke-dashoffset:0\" x=\"84.220718\" y=\"25.216337\" id=\"text22\"><tspan sodipodi:role=\"line\" id=\"tspan22\" style=\"font-style:normal;font-variant:normal;font-weight:normal;font-stretch:normal;font-family:'DejaVu Serif';-inkscape-font-specification:'DejaVu Serif';fill:#000000;stroke:none;stroke-width:0.265\" x=\"84.220718\" y=\"25.216337\">l</tspan></text>\n",
       "    <text xml:space=\"preserve\" style=\"font-style:normal;font-variant:normal;font-weight:normal;font-stretch:normal;font-size:4.23333px;font-family:'DejaVu Serif';-inkscape-font-specification:'DejaVu Serif';fill:#000000;fill-opacity:1;stroke:none;stroke-width:0.499999;stroke-dasharray:none;stroke-dashoffset:0\" x=\"164.14377\" y=\"48.142986\" id=\"text23\"><tspan sodipodi:role=\"line\" id=\"tspan23\" style=\"stroke-width:0.5\" x=\"164.14377\" y=\"48.142986\">v<tspan style=\"font-size:65%;baseline-shift:sub\" id=\"tspan24\">l</tspan></tspan></text>\n",
       "    <path style=\"fill:none;stroke:#000000;stroke-width:0.264583;marker-end:url(#ConcaveTriangle-3-2)\" d=\"m 35.000001,36.999999 h 7\" id=\"path19-4-3\" sodipodi:nodetypes=\"cc\"/>\n",
       "    <text xml:space=\"preserve\" style=\"font-style:normal;font-variant:normal;font-weight:normal;font-stretch:normal;font-size:4.23333px;font-family:'DejaVu Serif';-inkscape-font-specification:'DejaVu Serif';fill:#000000;fill-opacity:1;stroke:none;stroke-width:0.499999;stroke-dasharray:none;stroke-dashoffset:0\" x=\"36.535988\" y=\"35.672424\" id=\"text23-7\"><tspan sodipodi:role=\"line\" id=\"tspan23-7\" style=\"stroke-width:0.5\" x=\"36.535988\" y=\"35.672424\">v<tspan style=\"font-size:65%;baseline-shift:sub\" id=\"tspan27\">f</tspan></tspan></text>\n",
       "    <text xml:space=\"preserve\" style=\"font-style:normal;font-variant:normal;font-weight:normal;font-stretch:normal;font-size:4.23333px;font-family:'DejaVu Serif';-inkscape-font-specification:'DejaVu Serif';fill:#000000;fill-opacity:1;stroke:none;stroke-width:0.499999;stroke-dasharray:none;stroke-dashoffset:0\" x=\"141.26001\" y=\"43.954525\" id=\"text25\"><tspan sodipodi:role=\"line\" style=\"stroke-width:0.5\" x=\"141.26001\" y=\"43.954525\" id=\"tspan26\">θ</tspan></text>\n",
       "    <path sodipodi:type=\"star\" style=\"fill:#000000;fill-opacity:1;stroke:none;stroke-width:0.499999;stroke-dasharray:none;stroke-dashoffset:0\" id=\"path27\" inkscape:flatsided=\"false\" sodipodi:sides=\"5\" sodipodi:cx=\"40\" sodipodi:cy=\"44.999996\" sodipodi:r1=\"1.5183065\" sodipodi:r2=\"0.78212065\" sodipodi:arg1=\"1.6515296\" sodipodi:arg2=\"2.2798482\" inkscape:rounded=\"0\" inkscape:randomized=\"0\" d=\"m 39.877555,46.513357 -0.386805,-0.919747 -0.967879,-0.242411 0.755202,-0.652092 -0.06854,-0.995417 0.853546,0.516733 0.925516,-0.37279 -0.227682,0.971449 0.640545,0.76502 -0.994261,0.08366 z\" inkscape:transform-center-x=\"-0.024591468\" inkscape:transform-center-y=\"0.12578939\" transform=\"translate(-4.8778693,-15.144749)\"/>\n",
       "  </g>\n",
       "</svg>"
      ],
      "text/plain": [
       "<IPython.core.display.SVG object>"
      ]
     },
     "metadata": {},
     "output_type": "display_data"
    }
   ],
   "source": [
    "from IPython.display import SVG, display\n",
    "display(SVG(filename='loop.svg'))\n"
   ]
  },
  {
   "cell_type": "markdown",
   "metadata": {
    "vscode": {
     "languageId": "html"
    }
   },
   "source": [
    "The model consists of a traveling part of the line at the top of the loop, a stationary part of the line at the bottom of the loop and a semicircular transition between these parts. Both the traveling and stationary segments run parallel to each other and the ground. The traveling segment has the same initial velocity as the fly $v_f$. The stationary segment is tethered to a fixed point and has a zero velocity. The angle $\\theta$ measures the angle from the top edge to a particle within the semicircular loop."
   ]
  },
  {
   "cell_type": "code",
   "execution_count": 6,
   "metadata": {},
   "outputs": [],
   "source": [
    "from sympy import *\n",
    "init_printing()"
   ]
  },
  {
   "cell_type": "markdown",
   "metadata": {},
   "source": [
    "First equation relates the length of the traveling portion of the line to the velocity of the line:\n",
    "$$\n",
    "  \\boxed{\\frac{dl}{dt} = -v_l = - \\frac{v_f}{2}} \\tag{1}\n",
    "$$\n",
    "\n",
    "where\n",
    "\n",
    "$l$ is the length of the traveling portion\n",
    "\n",
    "$v_f$ is the loop velocity and\n",
    "\n",
    "$v_l$ is the traveling line velocity\n",
    "\n"
   ]
  },
  {
   "cell_type": "code",
   "execution_count": 7,
   "metadata": {},
   "outputs": [
    {
     "data": {
      "text/latex": [
       "$\\displaystyle \\dot{l} = \\frac{v_{f}}{2}$"
      ],
      "text/plain": [
       "    v_f\n",
       "l̇ = ───\n",
       "     2 "
      ]
     },
     "execution_count": 7,
     "metadata": {},
     "output_type": "execute_result"
    }
   ],
   "source": [
    "v_f, ldot = symbols(\"v_f ldot\")\n",
    "eq1 = Eq(ldot, v_f / 2)\n",
    "eq1"
   ]
  },
  {
   "cell_type": "markdown",
   "metadata": {},
   "source": [
    "The next equation computes the vertical momentum of the semicircular section:\n",
    "$$\n",
    "P_v = - \\int_{0}^{\\pi} \\rho_l r^2 sin(\\theta)\\frac{d\\theta}{dt}d\\theta\\ \\tag{2}\n",
    "$$"
   ]
  },
  {
   "cell_type": "code",
   "execution_count": 8,
   "metadata": {},
   "outputs": [
    {
     "data": {
      "text/latex": [
       "$\\displaystyle P_{v} = - 2 \\omega r^{2} \\rho_{l}$"
      ],
      "text/plain": [
       "           2   \n",
       "Pᵥ = -2⋅ω⋅r ⋅ρₗ"
      ]
     },
     "execution_count": 8,
     "metadata": {},
     "output_type": "execute_result"
    }
   ],
   "source": [
    "P_v, rho_l, r, theta, omega, t = symbols(\"P_v rho_l r theta omega t\")\n",
    "eq2 = Eq(P_v, - integrate(rho_l * r**2 * omega * sin(theta) , (theta, 0, pi)))\n",
    "eq2"
   ]
  },
  {
   "cell_type": "markdown",
   "metadata": {},
   "source": [
    "The center of the loop moves forward at a velocity of $v_l = \\frac{v_f}{2}$, thus\n",
    "$$\n",
    "\\omega = \\frac{d\\theta}{dt} = \\frac{v_f}{2 r} \\tag{3}\n",
    "$$ "
   ]
  },
  {
   "cell_type": "code",
   "execution_count": 9,
   "metadata": {},
   "outputs": [
    {
     "data": {
      "text/latex": [
       "$\\displaystyle \\left( \\omega = \\frac{v_{f}}{2 r}, \\  P_{v} = - r \\rho_{l} v_{f}\\right)$"
      ],
      "text/plain": [
       "⎛    v_f                ⎞\n",
       "⎜ω = ───, Pᵥ = -r⋅ρₗ⋅v_f⎟\n",
       "⎝    2⋅r                ⎠"
      ]
     },
     "execution_count": 9,
     "metadata": {},
     "output_type": "execute_result"
    }
   ],
   "source": [
    "eq3 = Eq(omega, v_f / (2 * r))\n",
    "eq3a = eq2.subs(omega, eq3.rhs)\n",
    "eq3, eq3a"
   ]
  },
  {
   "cell_type": "markdown",
   "metadata": {},
   "source": [
    "The vertical momentum equation can be written therefor as\n",
    "\n",
    "$$\n",
    "\\boxed{P_v = -\\rho_l v_f r} \\tag{3a}\n",
    "$$"
   ]
  },
  {
   "cell_type": "markdown",
   "metadata": {},
   "source": [
    "The following vertical forces act on the loop\n",
    "\n",
    "$$\n",
    "F_{vT} = \\frac{4 T}{v_f} \\frac{dr}{dt}\n",
    "$$\n",
    "\n",
    "$$\n",
    "dFr = \\frac{C_{Dr} A_r \\rho_a u_r^2}{2}\n",
    "$$\n",
    "\n",
    "$$\n",
    "dF_\\theta = \\frac{C_{D\\theta} A_\\theta \\rho_a u_\\theta^2}{2}\n",
    "$$\n",
    "\n",
    "where \n",
    "\n",
    "$C_{Dr}$ is the drag coefficient for perpendicular air flow (form drag),\n",
    "\n",
    "$C_{D\\theta}$ is the drag coefficient for parallel air flow (skin friction),\n",
    "\n",
    "$A_r = D r (d\\theta)$ is the reference area for perpendiculat air flow\n",
    "\n",
    "$A_\\theta = \\pi D r (d\\theta)$ is the reference area for parallel air flow\n",
    "\n",
    "Integrating yields the following results for the vertical force components:\n",
    "\n",
    "$$\n",
    "F_{vr} = \\int_{0}^{\\pi} (cos(\\theta)) dFr = 0\n",
    "$$\n",
    "\n",
    "$$\n",
    "F_{v\\theta} = \\int_{0}^{\\pi} (cos(\\theta)) dF_\\theta = k r v_f^2\n",
    "$$\n",
    "\n",
    "where \n",
    "\n",
    "$$ k = \\frac{\\pi D C_{D\\theta} \\rho_a}{3} $$\n",
    "\n",
    "$F_{vr}$ is the vertical force component due to form drag\n",
    "\n",
    "$F_{v\\theta}$ is the vertical force component due to skin friction\n",
    "\n"
   ]
  },
  {
   "cell_type": "code",
   "execution_count": 10,
   "metadata": {},
   "outputs": [
    {
     "data": {
      "text/latex": [
       "$\\displaystyle F_{vr} = 0$"
      ],
      "text/plain": [
       "Fᵥᵣ = 0"
      ]
     },
     "execution_count": 10,
     "metadata": {},
     "output_type": "execute_result"
    }
   ],
   "source": [
    "dFr, C_D_r, Ar, rho_a, ur, r, D, dtheta, F_vr = symbols('dFr C_D_r Ar rho_a ur r D dtheta F_vr')\n",
    "eq = Eq(dFr, (C_D_r * Ar * rho_a * ur**2) / 2)\n",
    "eq = eq.subs(Ar, D * r * dtheta)\n",
    "eq = Eq(F_vr, integrate(cos(theta) * eq.rhs, (theta, 0, pi)))\n",
    "eq"
   ]
  },
  {
   "cell_type": "code",
   "execution_count": 11,
   "metadata": {},
   "outputs": [
    {
     "data": {
      "text/latex": [
       "$\\displaystyle \\left( Fv_{\\theta} = k r v_{f}^{2}, \\  k = \\frac{\\pi C_{D \\theta} D \\rho_{a}}{3}\\right)$"
      ],
      "text/plain": [
       "⎛                 2      π⋅C_D_θ⋅D⋅ρₐ⎞\n",
       "⎜Fvₜₕₑₜₐ = k⋅r⋅v_f , k = ────────────⎟\n",
       "⎝                             3      ⎠"
      ]
     },
     "execution_count": 11,
     "metadata": {},
     "output_type": "execute_result"
    }
   ],
   "source": [
    "dFv_theta, C_D_theta, Atheta, rho_a, utheta, r, D, Fv_theta, omega, k = \\\n",
    "    symbols('dFv_theta C_D_theta Atheta rho_a utheta r D Fv_theta omega k')\n",
    "eq = Eq(dFv_theta, (C_D_theta * Atheta * rho_a * utheta**2) / 2)\n",
    "eq = eq.subs(Atheta, pi * D * r) # * dtheta\n",
    "eq = eq.subs(utheta, r * omega * (1 + cos(theta)) ) # Note omega = dtheta / dt\n",
    "eq = Eq(Fv_theta, integrate(sin(theta) * eq.rhs, (theta, 0, pi)))\n",
    "eq = eq.subs(omega, eq3.rhs) # Substitute eq3 for omega\n",
    "# pprint(eq)\n",
    "eq_ = Eq(k, pi * D * C_D_theta * rho_a / 3) # Assign constants to k\n",
    "eq = eq.subs(eq_.rhs, k)\n",
    "eq, eq_"
   ]
  },
  {
   "cell_type": "markdown",
   "metadata": {},
   "source": [
    "Now we can express the rate of change of vertical momentum (vertical force) with\n",
    "\n",
    "$$\n",
    "F_v = \\frac{dF_v}{dt} = \\frac{d}{dt}(-\\rho_l r v_f) = F_{v\\theta} + F_{vT}\n",
    "$$\n",
    "\n",
    "$$\n",
    "-\\rho_l ( \\frac{dr}{dt} v_f + r \\frac{dv_f}{dt} ) = k r v_f^2 + \\frac{4 T}{v_f} \\frac{dr}{dt} \\tag{4}\n",
    "$$\n",
    "\n",
    "Hendry assumes that progressive waves in strings travel with the velocity of \n",
    "\n",
    "$$\n",
    "v = \\sqrt{\\frac{T}{\\rho_l}} \\tag{5}\n",
    "$$\n",
    "\n",
    "solving for the tension $T$ yields\n",
    "\n",
    "$$\n",
    "T = \\rho_l \\frac{v_f^2}{4} \\tag{6}\n",
    "$$\n",
    "\n",
    "and this is an approximation for the tension at the bottom of the loop.\n",
    "\n",
    "Combining eq.4 with eq. 6 for tension T yields:\n",
    "\n",
    "$$\n",
    "\\boxed{\\frac{2 \\rho_l}{r} \\frac{dr}{dt} = -\\left( \\frac{\\rho_l}{v_f} \\frac{dv_f}{dt} + k v_f \\right)} \\tag{7}\n",
    "$$"
   ]
  },
  {
   "cell_type": "code",
   "execution_count": 12,
   "metadata": {},
   "outputs": [
    {
     "data": {
      "text/latex": [
       "$\\displaystyle \\frac{2 \\rho_{l} \\frac{d}{d t} r{\\left(t \\right)}}{r{\\left(t \\right)}} = - k \\operatorname{v_{f}}{\\left(t \\right)} - \\frac{\\rho_{l} \\frac{d}{d t} \\operatorname{v_{f}}{\\left(t \\right)}}{\\operatorname{v_{f}}{\\left(t \\right)}}$"
      ],
      "text/plain": [
       "     d                         d         \n",
       "2⋅ρₗ⋅──(r(t))               ρₗ⋅──(v_f(t))\n",
       "     dt                        dt        \n",
       "───────────── = -k⋅v_f(t) - ─────────────\n",
       "     r(t)                       v_f(t)   "
      ]
     },
     "execution_count": 12,
     "metadata": {},
     "output_type": "execute_result"
    }
   ],
   "source": [
    "T, rho_l, v_f, k = symbols('T rho_l v_f k')\n",
    "\n",
    "v_f = Function('v_f')(t)\n",
    "r = Function('r')(t)\n",
    "\n",
    "T = rho_l * v_f**2 / 4 # eq6\n",
    "\n",
    "eq4 = Eq(-rho_l * (diff(r, t) * v_f + r * diff(v_f, t) ), k * r * v_f**2 + (4 * T) / v_f * diff(r, t))\n",
    "eq4 = Eq(diff(r, t), solve(eq4, diff(r, t))[0])\n",
    "eq7 = Eq(eq4.lhs * 2 * rho_l / r, eq4.rhs * 2 * rho_l / r)\n",
    "simplify(eq7) # Final derivation of eq7"
   ]
  },
  {
   "cell_type": "markdown",
   "metadata": {},
   "source": [
    "The total energy of the system can be written as:\n",
    "\n",
    "$$\n",
    "E_{total} = E_{kin, tl} + E_{kin, l} + W_{tl} + W_{l} = const\n",
    "$$\n",
    "\n",
    "where\n",
    "\n",
    "$$\n",
    "E_{kin, tl} =  \\frac{1}{2} m_{tl} v_f^2 = \\frac{1}{2} \\rho_l l v_f^2\n",
    "$$\n",
    "\n",
    "is the kinetic energy of the traveling line and\n",
    "\n",
    "$$\n",
    "E_{kin, l} =  \\frac{1}{4} \\pi \\rho_l r v_f^2\n",
    "$$\n",
    "\n",
    "is the kinetic energy of the loop."
   ]
  },
  {
   "cell_type": "code",
   "execution_count": 13,
   "metadata": {},
   "outputs": [
    {
     "data": {
      "text/latex": [
       "$\\displaystyle \\left( E_{loop} = \\frac{\\pi r \\rho_{l} vf^{2}}{4}, \\  E_{loop} = \\frac{\\pi r \\rho_{l} vf^{2}}{4}\\right)$"
      ],
      "text/plain": [
       "⎛                 2                   2⎞\n",
       "⎜        π⋅r⋅ρₗ⋅vf           π⋅r⋅ρₗ⋅vf ⎟\n",
       "⎜Eₗₒₒₚ = ──────────, Eₗₒₒₚ = ──────────⎟\n",
       "⎝            4                   4     ⎠"
      ]
     },
     "execution_count": 13,
     "metadata": {},
     "output_type": "execute_result"
    }
   ],
   "source": [
    "r, theta, v_f, rho_l, E_loop = symbols(\"r theta vf rho_l E_loop\")\n",
    "\n",
    "# Loop velocity\n",
    "vl = v_f / 2\n",
    "\n",
    "# Angular velocity\n",
    "omega = vl / r\n",
    "\n",
    "# u_r and u_theta are the instantaneous radial and circumferential velocities\n",
    "u_r = r * omega * sin(theta)\n",
    "u_theta = r * omega * (1 - cos(theta))\n",
    "\n",
    "# Total velocity of a point along the loop\n",
    "u = sqrt(u_r**2 + u_theta**2)\n",
    "\n",
    "# Computation of the kinetic energy of the loop\n",
    "dm = rho_l * r # dm/dtheta mass for a section around the semicircle\n",
    "dE_loop = (rho_l * r) * u**2 / 2\n",
    "eqa = Eq(E_loop, integrate(dE_loop, (theta, 0, pi)))\n",
    "\n",
    "# Alternative derivation: consider the semicircle as rigid body, \n",
    "# the kinetic energy is the sum of (linear) kinetic energy and rotational kinetic energy\n",
    "m_loop = rho_l * (pi * r) # Multiply circumfence by linear mass density\n",
    "\n",
    "# moment of inertia: integrate for I for all mass points around the semicircle\n",
    "I_loop = integrate(dm * r**2, (theta, 0, pi))\n",
    "\n",
    "Ekin = m_loop * vl**2 / 2\n",
    "Erot = I_loop * omega**2 / 2\n",
    "eqb = Eq(E_loop, Ekin + Erot)\n",
    "\n",
    "# Output the result for the two approaches\n",
    "eqa, eqb"
   ]
  },
  {
   "cell_type": "markdown",
   "metadata": {},
   "source": [
    "The total rate of work (or power) on the traveling line is\n",
    "\n",
    "$$\n",
    "P_{tl} = \\frac{dW_{tl}}{dt} = l (\\frac{\\pi D C_{D\\theta} \\rho_a}{2}) v_f^3\n",
    "$$\n",
    "\n",
    "The total rate of work (or power) on the loop due to aerodynamic forces is\n",
    "\n",
    "$$\n",
    "P_l = \\frac{dW_l}{dt} = \\left[ C_{Dr} \\frac{r D \\rho_a}{12} + C_{D\\theta} \\frac{5 \\rho_a \\pi^2 r D}{32} \\right] v_f^3\n",
    "$$"
   ]
  },
  {
   "cell_type": "code",
   "execution_count": 14,
   "metadata": {},
   "outputs": [
    {
     "data": {
      "text/latex": [
       "$\\displaystyle \\dot{W}_{loop} = \\frac{C_{D r} D r \\rho_{a} v_{f}^{3}}{12} + \\frac{5 \\pi^{2} C_{D \\theta} D r \\rho_{a} v_{f}^{3}}{32}$"
      ],
      "text/plain": [
       "                        3      2                 3\n",
       "        C_D_r⋅D⋅r⋅ρₐ⋅v_f    5⋅π ⋅C_D_θ⋅D⋅r⋅ρₐ⋅v_f \n",
       "Ẇₗₒₒₚ = ───────────────── + ──────────────────────\n",
       "                12                    32          "
      ]
     },
     "execution_count": 14,
     "metadata": {},
     "output_type": "execute_result"
    }
   ],
   "source": [
    "# Derivation of this equation can be found in [Lingard 1988]\n",
    "r, theta, v_f, D, Wdot_loop, rho_l, E_loop = symbols(\"r theta v_f D Wdot_loop rho_l E_loop\")\n",
    "\n",
    "# Loop velocity\n",
    "vl = v_f / 2\n",
    "\n",
    "# Angular velocity\n",
    "omega = vl / r\n",
    "\n",
    "# Reference areas\n",
    "Ar = D * r\n",
    "Atheta = pi * D * r\n",
    "\n",
    "# u_r and u_theta are the instantaneous radial and circumferential velocities\n",
    "u_r = r * omega * sin(theta)\n",
    "u_theta = r * omega * (1 - cos(theta))\n",
    "\n",
    "# See the drag equation https://en.wikipedia.org/wiki/Drag_equation\n",
    "deltaFR = rho_a * u_r**2 * C_D_r * Ar / 2\n",
    "deltaFtheta = rho_a * u_theta**2 * C_D_theta * Atheta / 2\n",
    "\n",
    "# P = Wdot = dW/dt = F * v is the power, see https://en.wikipedia.org/wiki/Power_(physics)\n",
    "dWRdot = deltaFR * u_r\n",
    "dWthetadot = deltaFtheta * u_theta\n",
    "\n",
    "eq = Eq(Wdot_loop, integrate(dWRdot, (theta, 0, pi)) + integrate(dWthetadot, (theta, 0, pi)))\n",
    "eq"
   ]
  },
  {
   "cell_type": "markdown",
   "metadata": {},
   "source": [
    "When we assume that the total energy stays the same: $E_{total} = const$, it means that the sum of kinetic energy and drag force work doesn't change, leading to the conclusion that the rate of change of total energy over time is zero.\n",
    " \n",
    "$$\n",
    "\\frac{dE_{total}}{dt} = \\frac{d}{dt} \\left[ \\frac{1}{2} \\rho_l l v_f^2 + \\frac{1}{4} \\pi \\rho_l r v_f^2 + \\int_{0}^{\\tau}P_l dt + \\int_{0}^{\\tau}P_{tl} dt \\right] = 0\n",
    "$$\n",
    "\n",
    "$$\n",
    "\\frac{d}{dt} \\left[ \\frac{1}{2} \\rho_l l v_f^2 + \\frac{1}{4} \\pi \\rho_l r v_f^2 \\right] + P_l + P_{tl} = 0\n",
    "$$\n",
    "\n",
    "$$\n",
    "\\frac{d}{dt} \\left[ \\frac{1}{2} \\rho_l l v_f^2 + \\frac{1}{4} \\pi \\rho_l r v_f^2 \\right]  = -v_f^3 [ r A + l B] \\tag{8}\n",
    "$$\n",
    "\n",
    "where\n",
    "\n",
    "$$\n",
    "A = ( \\frac{D \\rho_a}{4} ) ( \\frac{C_{Dr}}{3} + \\frac{5}{8} \\pi^2 C_{D_{\\theta}})\n",
    "$$\n",
    "\n",
    "$$\n",
    "B = (\\frac{\\pi * D * C_{D_\\theta} * \\rho_a}{2})\n",
    "$$\n",
    "\n",
    "$$\n",
    "\\boxed{\\frac{\\rho_l}{2} \\frac{dl}{dt} v_f^2 + \\rho_l l v_f \\frac{d v_f}{dt} + \\frac{\\pi \\rho_l}{4} \\frac{dr}{dt} v_f^2 + \\frac{\\pi \\rho_l}{2} r v_f \\frac{d v_f}{dt} = -v_f^3 [ r A + l B]} \\tag{9}\n",
    "$$"
   ]
  },
  {
   "cell_type": "code",
   "execution_count": 15,
   "metadata": {},
   "outputs": [
    {
     "name": "stdout",
     "output_type": "stream",
     "text": [
      "The correctness of RHS (eq. 8) is:  True\n"
     ]
    },
    {
     "data": {
      "text/latex": [
       "$\\displaystyle \\rho_{l} l{\\left(t \\right)} \\operatorname{v_{f}}{\\left(t \\right)} \\frac{d}{d t} \\operatorname{v_{f}}{\\left(t \\right)} + \\frac{\\pi \\rho_{l} r{\\left(t \\right)} \\operatorname{v_{f}}{\\left(t \\right)} \\frac{d}{d t} \\operatorname{v_{f}}{\\left(t \\right)}}{2} + \\frac{\\rho_{l} \\operatorname{v_{f}}^{2}{\\left(t \\right)} \\frac{d}{d t} l{\\left(t \\right)}}{2} + \\frac{\\pi \\rho_{l} \\operatorname{v_{f}}^{2}{\\left(t \\right)} \\frac{d}{d t} r{\\left(t \\right)}}{4} + \\operatorname{P_{l}}{\\left(t \\right)} + \\operatorname{P_{tl}}{\\left(t \\right)} = 0$"
      ],
      "text/plain": [
       "                                             d                  2    d                  2    d                            \n",
       "                            π⋅ρₗ⋅r(t)⋅v_f(t)⋅──(v_f(t))   ρₗ⋅v_f (t)⋅──(l(t))   π⋅ρₗ⋅v_f (t)⋅──(r(t))                     \n",
       "               d                             dt                      dt                      dt                           \n",
       "ρₗ⋅l(t)⋅v_f(t)⋅──(v_f(t)) + ─────────────────────────── + ─────────────────── + ───────────────────── + Pₗ(t) + Pₜₗ(t) = 0\n",
       "               dt                        2                         2                      4                               "
      ]
     },
     "execution_count": 15,
     "metadata": {},
     "output_type": "execute_result"
    }
   ],
   "source": [
    "rho_l, t, tau, a = symbols('rho_l t tau a')\n",
    "\n",
    "l = Function('l')(t)\n",
    "r = Function('r')(t)\n",
    "v_f = Function('v_f')(t)\n",
    "P_tl = Function('P_tl')(t)\n",
    "P_l = Function('P_l')(t)\n",
    "tau = t # tau is set to the current time\n",
    "\n",
    "E_tl = Rational(1, 2) * rho_l * l * v_f**2\n",
    "E_l = Rational(1, 4) * pi * rho_l * r * v_f**2\n",
    "W_tl = integrate(P_tl, (t, 0, tau)) # Work from start till actual time\n",
    "W_l = integrate(P_l, (t, 0, tau))\n",
    "\n",
    "# Coefficients from Hendry's work to simplify P_l ant P_tl page 73\n",
    "A = (D * rho_a / 4) * (C_D_r /3 + Rational(5,8) * pi**2 * C_D_theta)\n",
    "B = (pi * D * C_D_theta * rho_a / 2)\n",
    "\n",
    "# Check for correctness RHS of eq. 8\n",
    "P_l = (C_D_r * (r * D * rho_a / 12) + C_D_theta * (5 * rho_a * pi**2 * r * D) / 32) * v_f**3\n",
    "P_tl = l * ((pi * D * C_D_theta) * rho_a) / 2 * v_f**3\n",
    "eq8rhs_1 = -(P_l + P_tl) \n",
    "eq8rhs_2 = -v_f**3 * (r*A + l*B) \n",
    "\n",
    "print(\"The correctness of RHS (eq. 8) is: \", simplify(eq8rhs_1) == simplify(eq8rhs_2))\n",
    "\n",
    "eq = Eq(diff(E_tl + E_l + W_tl + W_l, t), 0)\n",
    "eq"
   ]
  },
  {
   "cell_type": "markdown",
   "metadata": {},
   "source": [
    "The equations eq.1, eq. 7, eq. 9 combined are a system of ODEs:\n",
    "\n",
    "$$\n",
    "\\boxed{\\frac{dl}{dt} = -v_l = - \\frac{v_f}{2}} \\tag{1}\n",
    "$$\n",
    "\n",
    "$$\n",
    "\\boxed{\\frac{2 \\rho_l}{r} \\frac{dr}{dt} = -\\left( \\frac{\\rho_l}{v_f} \\frac{dv_f}{dt} + k v_f \\right)} \\tag{7}\n",
    "$$\n",
    "\n",
    "$$\n",
    "\\boxed{\\frac{\\rho_l}{2} \\frac{dl}{dt} v_f^2 + \\rho_l l v_f \\frac{d v_f}{dt} + \\frac{\\pi \\rho_l}{4} \\frac{dr}{dt} v_f^2 + \\frac{\\pi \\rho_l}{2} r v_f \\frac{d v_f}{dt} = -v_f^3 [ r A + l B]} \\tag{9}\n",
    "$$"
   ]
  },
  {
   "cell_type": "code",
   "execution_count": 16,
   "metadata": {},
   "outputs": [
    {
     "name": "stdout",
     "output_type": "stream",
     "text": [
      "The final system equations are:\n",
      "Eq(ldot, -v_f/2)\n",
      "Eq(vfdot, v_f**2*(-8*A*r - 8*B*l + pi*k*r + 2*rho_l)/(rho_l*(8*l + 3*pi*r)))\n",
      "Eq(rdot, r*v_f*(4*A*r + 4*B*l - 4*k*l - 2*pi*k*r - rho_l)/(rho_l*(8*l + 3*pi*r)))\n"
     ]
    },
    {
     "data": {
      "text/latex": [
       "$\\displaystyle \\left( \\dot{l} = - \\frac{v_{f}}{2}, \\  \\dot{vf} = \\frac{v_{f}^{2} \\left(- 8 A r - 8 B l + \\pi k r + 2 \\rho_{l}\\right)}{\\rho_{l} \\left(8 l + 3 \\pi r\\right)}, \\  \\dot{r} = \\frac{r v_{f} \\left(4 A r + 4 B l - 4 k l - 2 \\pi k r - \\rho_{l}\\right)}{\\rho_{l} \\left(8 l + 3 \\pi r\\right)}\\right)$"
      ],
      "text/plain": [
       "⎛                   2                                                                                  ⎞\n",
       "⎜    -v_f        v_f ⋅(-8⋅A⋅r - 8⋅B⋅l + π⋅k⋅r + 2⋅ρₗ)      r⋅v_f⋅(4⋅A⋅r + 4⋅B⋅l - 4⋅k⋅l - 2⋅π⋅k⋅r - ρₗ)⎟\n",
       "⎜l̇ = ─────, vḟ = ────────────────────────────────────, ṙ = ────────────────────────────────────────────⎟\n",
       "⎝      2                   ρₗ⋅(8⋅l + 3⋅π⋅r)                              ρₗ⋅(8⋅l + 3⋅π⋅r)              ⎠"
      ]
     },
     "execution_count": 16,
     "metadata": {},
     "output_type": "execute_result"
    }
   ],
   "source": [
    "# The system functions need to be rearranged to be usable for the ODE solver\n",
    "\n",
    "from sympy import *\n",
    "\n",
    "k, l, ldot, v_f, vfdot, r, rdot, rho_l, A, B   = symbols('k l ldot v_f vfdot r rdot rho_l A B')\n",
    "\n",
    "eq1 = Eq(ldot, -v_f/2)\n",
    "eq7 = Eq(rdot * (2*rho_l/r) + vfdot*(rho_l / v_f), -k * v_f)\n",
    "eq9 = Eq(ldot * (rho_l/2 * v_f**2) + rdot * (pi*rho_l / 4 * v_f**2) + vfdot * (rho_l * l * v_f + pi * rho_l / 2 * r * v_f ), -v_f**3 * (r*A + l*B))\n",
    "\n",
    "eq10 = eq9.subs(rdot, solve(eq7, rdot)[0])\n",
    "eq11 = eq10.subs(ldot, solve(eq1, ldot)[0])\n",
    "\n",
    "eq12 = eq9.subs(vfdot, solve(eq7, vfdot)[0])\n",
    "eq13 = eq12.subs(ldot, solve(eq1, ldot)[0])\n",
    "\n",
    "eq14 = Eq(vfdot, simplify(solve(eq11, vfdot)[0]))\n",
    "eq15 = Eq(rdot, simplify(solve(eq13, rdot)[0]))\n",
    "\n",
    "print(\"The final system equations are:\")\n",
    "print(eq1)\n",
    "print(eq14)\n",
    "print(eq15)\n",
    "eq1, eq14, eq15"
   ]
  },
  {
   "cell_type": "code",
   "execution_count": 17,
   "metadata": {},
   "outputs": [
    {
     "name": "stdout",
     "output_type": "stream",
     "text": [
      "A = 1.47e-04\n",
      "B = 7.13e-06\n",
      "k = 4.75e-06\n"
     ]
    }
   ],
   "source": [
    "import math\n",
    "from scipy.integrate import solve_ivp\n",
    "import matplotlib.pyplot as plt\n",
    "\n",
    "D = 1.4e-3 # [m] Diameter of the line\n",
    "rho_l = 1.2e-3 # [kg/m] Linear density of the line\n",
    "rho_a = 1.2 # [kg/m³] Density of the air\n",
    "CDr = 1.0 # Form drag coefficient\n",
    "CDtheta = 0.0027 # Skin friction\n",
    "\n",
    "A = (D * rho_a / 4.0) * (CDr / 3.0 + 5.0 / 8.0 * math.pi**2 * CDtheta)\n",
    "B = (math.pi * D * CDtheta * rho_a / 2.0)\n",
    "k = math.pi * D * CDtheta * rho_a / 3.0\n",
    "\n",
    "print(\"A = {:.2e}\".format(A))\n",
    "print(\"B = {:.2e}\".format(B))\n",
    "print(\"k = {:.2e}\".format(k))\n",
    "\n",
    "# Inital conditions\n",
    "x0 = 0 # [m] position of the fly\n",
    "l0 = 18.43 # [m] inital line length\n",
    "vf0 = 30.0 # [m/s] fly velocity\n",
    "r0 = 0.5 # [m] loop radius\n",
    "\n",
    "def lineFunc(t, y):\n",
    "    x, l, vf, r = y\n",
    "    xdot = vf\n",
    "    ldot = -vf/2\n",
    "    vfdot = vf**2*(-8*A*r - 8*B*l + math.pi*k*r + 2*rho_l)/(rho_l*(8*l + 3*math.pi*r))\n",
    "    rdot =  r*vf*(4*A*r + 4*B*l - 4*k*l - 2*math.pi*k*r - rho_l)/(rho_l*(8*l + 3*math.pi*r))\n",
    "    return (xdot, ldot, vfdot, rdot)\n",
    "\n",
    "sol = solve_ivp(lineFunc, [0.0, 0.985], [x0, l0, vf0, r0], max_step =1e-3)\n",
    "\n",
    "x, l, vf, r = sol.y"
   ]
  },
  {
   "cell_type": "code",
   "execution_count": 18,
   "metadata": {},
   "outputs": [
    {
     "data": {
      "image/png": "[encoded data removed]",
      "text/plain": [
       "<Figure size 432x288 with 1 Axes>"
      ]
     },
     "metadata": {
      "needs_background": "light"
     },
     "output_type": "display_data"
    }
   ],
   "source": [
    "plt.plot(x, r)\n",
    "plt.title(\"Loop radius as function of fly displacement\")\n",
    "plt.grid(True)\n",
    "plt.xlim([0, 40])\n",
    "plt.ylim([.2, 0.55])\n",
    "plt.xlabel(\"fly displacement [m]\")\n",
    "plt.ylabel(\"loop radius [m]\")\n",
    "plt.show()"
   ]
  },
  {
   "cell_type": "code",
   "execution_count": 19,
   "metadata": {},
   "outputs": [
    {
     "data": {
      "image/png": "[encoded data removed]",
      "text/plain": [
       "<Figure size 432x288 with 1 Axes>"
      ]
     },
     "metadata": {
      "needs_background": "light"
     },
     "output_type": "display_data"
    }
   ],
   "source": [
    "plt.plot(x, vf)\n",
    "plt.title(\"Fly velocity vs fly displacement\")\n",
    "plt.grid(True)\n",
    "plt.xlim([0, 40])\n",
    "plt.ylim([25, 105])\n",
    "plt.xlabel(\"fly displacement [m]\")\n",
    "plt.ylabel(\"fly velocity [m/s]\")\n",
    "plt.show()"
   ]
  },
  {
   "cell_type": "markdown",
   "metadata": {},
   "source": [
    "## References\n",
    "\n",
    "[1] HENDRY, Mike. Measurement and simulation of fly casting dynamics. University of California, Davis, 1999."
   ]
  }
 ],
 "metadata": {
  "kernelspec": {
   "display_name": "Python 3 (ipykernel)",
   "language": "python",
   "name": "python3"
  },
  "language_info": {
   "codemirror_mode": {
    "name": "ipython",
    "version": 3
   },
   "file_extension": ".py",
   "mimetype": "text/x-python",
   "name": "python",
   "nbconvert_exporter": "python",
   "pygments_lexer": "ipython3",
   "version": "3.10.12"
  }
 },
 "nbformat": 4,
 "nbformat_minor": 4
}
